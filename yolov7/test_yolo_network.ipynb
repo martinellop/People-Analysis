{
 "cells": [
  {
   "cell_type": "code",
   "execution_count": 28,
   "metadata": {},
   "outputs": [
    {
     "name": "stdout",
     "output_type": "stream",
     "text": [
      "Namespace(weights=['yolov7-tiny.pt'], source='./inference/images/zidane.jpg', img_size=640, conf_thres=0.25, iou_thres=0.45, device='', view_img=True, save_txt=False, save_conf=False, nosave=True, classes=None, agnostic_nms=False, augment=False, update=False, project='runs/detect', name='tmp', exist_ok=True, no_trace=False)\n",
      "Fusing layers... \n",
      " Convert model to Traced-model... \n",
      " traced_script_module saved! \n",
      " model is traced! \n",
      "\n",
      "[DEBUG]  classes: ['person', 'bicycle', 'car', 'motorcycle', 'airplane', 'bus', 'train', 'truck', 'boat', 'traffic light', 'fire hydrant', 'stop sign', 'parking meter', 'bench', 'bird', 'cat', 'dog', 'horse', 'sheep', 'cow', 'elephant', 'bear', 'zebra', 'giraffe', 'backpack', 'umbrella', 'handbag', 'tie', 'suitcase', 'frisbee', 'skis', 'snowboard', 'sports ball', 'kite', 'baseball bat', 'baseball glove', 'skateboard', 'surfboard', 'tennis racket', 'bottle', 'wine glass', 'cup', 'fork', 'knife', 'spoon', 'bowl', 'banana', 'apple', 'sandwich', 'orange', 'broccoli', 'carrot', 'hot dog', 'pizza', 'donut', 'cake', 'chair', 'couch', 'potted plant', 'bed', 'dining table', 'toilet', 'tv', 'laptop', 'mouse', 'remote', 'keyboard', 'cell phone', 'microwave', 'oven', 'toaster', 'sink', 'refrigerator', 'book', 'clock', 'vase', 'scissors', 'teddy bear', 'hair drier', 'toothbrush']\n",
      "[DEBUG]  boxes before NMS: 15120\n",
      "[DEBUG]  boxes after NMS: 3\n",
      "[DEBUG]  bbox:  [tensor(133.), tensor(201.), tensor(963.), tensor(710.)]\n",
      "[DEBUG]  bbox:  [tensor(438.), tensor(432.), tensor(538.), tensor(714.)]\n",
      "[DEBUG]  bbox:  [tensor(747.), tensor(42.), tensor(1155.), tensor(712.)]\n",
      "2 persons, 1 tie, Done. (176.8ms) Inference, (2.0ms) NMS\n",
      "Done. (0.228s)\n"
     ]
    },
    {
     "name": "stderr",
     "output_type": "stream",
     "text": [
      "YOLOR  86a696f torch 1.13.0+cpu CPU\n",
      "\n",
      "Model Summary: 200 layers, 6219709 parameters, 229245 gradients\n",
      "c:\\Users\\pietr\\.conda\\envs\\cvcs-project\\lib\\site-packages\\torch\\functional.py:504: UserWarning: torch.meshgrid: in an upcoming release, it will be required to pass the indexing argument. (Triggered internally at ..\\aten\\src\\ATen\\native\\TensorShape.cpp:3191.)\n",
      "  return _VF.meshgrid(tensors, **kwargs)  # type: ignore[attr-defined]\n"
     ]
    }
   ],
   "source": [
    "#!python detect.py --source ./inference/videos/test_video1.mp4 --weights yolov7-tiny.pt --name video_tiny_1 --view-img\n",
    "#!python detect.py --weights yolov7-tiny.pt --name test_image --view-img\n",
    "\n",
    "!python detect.py --source ./inference/images/zidane.jpg --weights yolov7-tiny.pt --name tmp --nosave --exist-ok --view-img"
   ]
  }
 ],
 "metadata": {
  "kernelspec": {
   "display_name": "Python 3.10.8 ('cvcs-project')",
   "language": "python",
   "name": "python3"
  },
  "language_info": {
   "codemirror_mode": {
    "name": "ipython",
    "version": 3
   },
   "file_extension": ".py",
   "mimetype": "text/x-python",
   "name": "python",
   "nbconvert_exporter": "python",
   "pygments_lexer": "ipython3",
   "version": "3.10.8"
  },
  "orig_nbformat": 4,
  "vscode": {
   "interpreter": {
    "hash": "0b6e259434f4333afa1cc5dea76fb96711b9c36ae1cda3e11247821c069fa262"
   }
  }
 },
 "nbformat": 4,
 "nbformat_minor": 2
}
