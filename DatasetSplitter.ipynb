{
 "cells": [
  {
   "cell_type": "code",
   "execution_count": 1,
   "metadata": {},
   "outputs": [],
   "source": [
    "import torch\n",
    "import os\n",
    "import numpy as np\n",
    "import shutil\n",
    "\n",
    "dataset_dir = os.path.join(\"D:\\\\Data\\\\University\\\\MOTSynth\",\"dataset_multiclip\")\n",
    "\n",
    "#we have too many identities (data), so let's just keep the first k identities with the highest number of pictures.\n",
    "training_identities = 1500\n",
    "testing_identities = 750\n",
    "\n",
    "max_number_queries_per_id = 4\n",
    "max_number_gallery_per_id = 20\n",
    "\n",
    "gallery_ratio = 0.80        # % of testing set that will be gallery. the remaining will be queries.\n",
    "\n",
    "def get_folders_from_folder(path):\n",
    "    elements = os.listdir(path)\n",
    "    dirs = [el for el in elements if os.path.isdir(os.path.join(path, el))]\n",
    "    return np.asarray(dirs)\n",
    "\n",
    "def get_files_from_folder(path):\n",
    "    elements = os.listdir(path)\n",
    "    return np.asarray(elements)   "
   ]
  },
  {
   "cell_type": "code",
   "execution_count": 2,
   "metadata": {},
   "outputs": [
    {
     "name": "stdout",
     "output_type": "stream",
     "text": [
      "636\n"
     ]
    }
   ],
   "source": [
    "dirs = get_folders_from_folder(dataset_dir)\n",
    "\n",
    "\n",
    "dtype = [('path', 'U50'), ('len', int)]\n",
    "values = [(p, len(os.listdir(os.path.join(dataset_dir,p)))) for p in dirs]\n",
    "\n",
    "a = np.array(values, dtype=dtype)       # create a structured array\n",
    "a = np.flip(np.sort(a, order='len'))\n",
    "\n",
    "total_number = training_identities+testing_identities\n",
    "to_keep = a[:total_number]\n",
    "to_delete = a[total_number:]\n",
    "\n",
    "for i in to_delete:\n",
    "    shutil.rmtree(os.path.join(dataset_dir,i['path']))\n",
    "\n",
    "print(len(to_keep))\n",
    "dirs = np.array([el['path'] for el in to_keep])\n",
    "\n",
    "\n",
    "np.random.shuffle(dirs)\n",
    "#renaming\n",
    "for idx, e in enumerate(dirs):\n",
    "    #print(e)\n",
    "    newname = f\"{idx}_{e}\"\n",
    "    #print(newname)\n",
    "    shutil.move(os.path.join(dataset_dir,e), os.path.join(dataset_dir, newname))\n"
   ]
  },
  {
   "cell_type": "code",
   "execution_count": 3,
   "metadata": {},
   "outputs": [],
   "source": [
    "dtype = [('path', 'U50'), ('id', int)]\n",
    "values = [(p, int(p.split('_')[0])) for p in get_folders_from_folder(dataset_dir)]\n",
    "\n",
    "a = np.array(values, dtype=dtype)       # create a structured array\n",
    "a = np.sort(a, order='id')\n",
    "dirs = [el['path'] for el in a]\n",
    "n_folders = len(dirs)\n",
    "\n",
    "train_dir = os.path.join(dataset_dir,\"train\")\n",
    "os.mkdir(train_dir)\n",
    "queries_dir = os.path.join(dataset_dir,\"queries\")\n",
    "os.mkdir(queries_dir)\n",
    "gallery_dir = os.path.join(dataset_dir,\"gallery\")\n",
    "os.mkdir(gallery_dir)\n",
    "\n",
    "train_set, test_set = np.split(dirs, [training_identities])\n",
    "\n",
    "#print(\"train: \",train_set, len(train_set))\n",
    "#print(\"test: \", test_set, len(test_set))\n",
    "\n",
    "for i in train_set:\n",
    "    shutil.move(os.path.join(dataset_dir,i), os.path.join(train_dir,i))\n"
   ]
  },
  {
   "cell_type": "code",
   "execution_count": 4,
   "metadata": {},
   "outputs": [],
   "source": [
    "for i in test_set:\n",
    "    src_dir = os.path.join(dataset_dir,i)\n",
    "    query_dst = os.path.join(queries_dir,i)\n",
    "    os.mkdir(query_dst)\n",
    "    gallery_dst = os.path.join(gallery_dir,i)\n",
    "    os.mkdir(gallery_dst)\n",
    "\n",
    "    elements = get_files_from_folder(src_dir)\n",
    "    np.random.shuffle(elements)\n",
    "    n_elements = len(elements)\n",
    "    idx = round(gallery_ratio * n_elements)\n",
    "    idx = min(idx, n_elements-1)    # we want at least one query\n",
    "    gallery, queries = np.split(elements, [idx])\n",
    "    \n",
    "    for (idx, j) in enumerate(gallery):\n",
    "        shutil.move(os.path.join(src_dir,j), os.path.join(gallery_dst,j))\n",
    "        if idx + 1 >= max_number_gallery_per_id:\n",
    "            break\n",
    "\n",
    "    for (idx, j) in enumerate(queries):\n",
    "        shutil.move(os.path.join(src_dir,j), os.path.join(query_dst,j))\n",
    "        if idx + 1 >= max_number_queries_per_id:\n",
    "            break\n",
    "    shutil.rmtree(src_dir)\n",
    "    #print(\"Split \", i, \" into gallery & queries\")   "
   ]
  }
 ],
 "metadata": {
  "kernelspec": {
   "display_name": "cvcs-project",
   "language": "python",
   "name": "python3"
  },
  "language_info": {
   "codemirror_mode": {
    "name": "ipython",
    "version": 3
   },
   "file_extension": ".py",
   "mimetype": "text/x-python",
   "name": "python",
   "nbconvert_exporter": "python",
   "pygments_lexer": "ipython3",
   "version": "3.10.8"
  },
  "orig_nbformat": 4,
  "vscode": {
   "interpreter": {
    "hash": "0b6e259434f4333afa1cc5dea76fb96711b9c36ae1cda3e11247821c069fa262"
   }
  }
 },
 "nbformat": 4,
 "nbformat_minor": 2
}
