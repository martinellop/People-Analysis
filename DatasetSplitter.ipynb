{
 "cells": [
  {
   "cell_type": "code",
   "execution_count": 36,
   "metadata": {},
   "outputs": [],
   "source": [
    "import torch\n",
    "import os\n",
    "import numpy as np\n",
    "import shutil\n",
    "\n",
    "dataset_dir = os.path.join(\"D:\\\\Data\\\\University\\\\MOTSynth\",\"crops_day_isolated_subdivided\")\n",
    "\n",
    "training_ratio = 0.8 # (1 - training_ratio) will be the portion for tests\n",
    "gallery_ratio = 0.9  # (1 - gallery_ratio) will be the portion for queries"
   ]
  },
  {
   "cell_type": "code",
   "execution_count": 37,
   "metadata": {},
   "outputs": [],
   "source": [
    "def get_folders_from_folder(path):\n",
    "    elements = os.listdir(path)\n",
    "    dirs = [el for el in elements if os.path.isdir(os.path.join(path, el))]\n",
    "    return np.asarray(dirs)\n",
    "\n",
    "def get_files_from_folder(path):\n",
    "    elements = os.listdir(path)\n",
    "    return np.asarray(elements)    \n",
    "\n",
    "dirs = get_folders_from_folder(dataset_dir)\n",
    "np.random.shuffle(dirs)\n",
    "n_folders = len(dirs)\n",
    "\n",
    "train_dir = os.path.join(dataset_dir,\"train\")\n",
    "os.mkdir(train_dir)\n",
    "queries_dir = os.path.join(dataset_dir,\"queries\")\n",
    "os.mkdir(queries_dir)\n",
    "gallery_dir = os.path.join(dataset_dir,\"gallery\")\n",
    "os.mkdir(gallery_dir)\n",
    "\n",
    "train_set, test_set = np.split(dirs, [round(training_ratio*n_folders)])\n",
    "\n",
    "#print(\"train: \",train_set, len(train_set))\n",
    "#print(\"test: \", test_set, len(test_set))\n",
    "\n",
    "for i in train_set:\n",
    "    shutil.move(os.path.join(dataset_dir,i), os.path.join(train_dir,i))\n",
    "\n"
   ]
  },
  {
   "cell_type": "code",
   "execution_count": null,
   "metadata": {},
   "outputs": [],
   "source": [
    "for i in test_set:\n",
    "    src_dir = os.path.join(dataset_dir,i)\n",
    "    query_dst = os.path.join(queries_dir,i)\n",
    "    os.mkdir(query_dst)\n",
    "    gallery_dst = os.path.join(gallery_dir,i)\n",
    "    os.mkdir(gallery_dst)\n",
    "\n",
    "    elements = get_files_from_folder(src_dir)\n",
    "    np.random.shuffle(elements)\n",
    "    n_elements = len(elements)\n",
    "    idx = round(gallery_ratio * n_elements)\n",
    "    idx = min(idx, n_elements-1)    # we want at least one query\n",
    "    gallery, queries = np.split(elements, [idx])\n",
    "    \n",
    "    for j in gallery:\n",
    "        shutil.move(os.path.join(src_dir,j), os.path.join(gallery_dst,j))\n",
    "\n",
    "    for j in queries:\n",
    "        shutil.move(os.path.join(src_dir,j), os.path.join(query_dst,j))\n",
    "    os.rmdir(src_dir)\n",
    "    #print(\"Split \", i, \" into gallery & queries\")    \n"
   ]
  }
 ],
 "metadata": {
  "kernelspec": {
   "display_name": "cvcs-project",
   "language": "python",
   "name": "python3"
  },
  "language_info": {
   "codemirror_mode": {
    "name": "ipython",
    "version": 3
   },
   "file_extension": ".py",
   "mimetype": "text/x-python",
   "name": "python",
   "nbconvert_exporter": "python",
   "pygments_lexer": "ipython3",
   "version": "3.10.8"
  },
  "orig_nbformat": 4,
  "vscode": {
   "interpreter": {
    "hash": "0b6e259434f4333afa1cc5dea76fb96711b9c36ae1cda3e11247821c069fa262"
   }
  }
 },
 "nbformat": 4,
 "nbformat_minor": 2
}
