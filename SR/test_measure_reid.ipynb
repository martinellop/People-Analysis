{
 "cells": [
  {
   "cell_type": "code",
   "execution_count": 1,
   "metadata": {},
   "outputs": [
    {
     "data": {
      "text/plain": [
       "'c:\\\\Users\\\\Leonardo\\\\Documents\\\\Repo Github\\\\People-Analyzer\\\\SR'"
      ]
     },
     "execution_count": 1,
     "metadata": {},
     "output_type": "execute_result"
    }
   ],
   "source": [
    "import os\n",
    "os.path.abspath(os.getcwd())"
   ]
  },
  {
   "cell_type": "code",
   "execution_count": null,
   "metadata": {},
   "outputs": [],
   "source": [
    "!python reid\\CelebREID_empty\\generateDatasetFeatures.py"
   ]
  },
  {
   "cell_type": "code",
   "execution_count": null,
   "metadata": {},
   "outputs": [],
   "source": [
    "import imagenhancer as ie\n",
    "import numpy as np\n",
    "import torch\n",
    "import matplotlib.pyplot as plt \n",
    "import cv2 as cv\n",
    "import sys\n",
    "sys.argv = ['']\n",
    "\n",
    "import sys\n",
    "stdout_sav = sys.stdout\n",
    "stderr_sav = sys.stderr\n",
    "fout = open('file.log', 'w')\n",
    "sys.stdout = fout\n",
    "sys.stderr = fout\n",
    "\n",
    "model_path_x4 = '.\\\\RealESRGANmaster\\\\weights\\\\RealESRGAN_x4plus.pth'\n",
    "\n",
    "enhancer = ie.RealESRGANx2(model_path = model_path_x4,scale_= 4)\n",
    "\n",
    "from reid.CelebREID_empty.searchImage import search\n",
    "\n",
    "filename = r'C:\\Users\\Leonardo\\Documents\\Universita\\CVCS\\PRJ\\reid\\CelebREID_empty\\testImages\\313_001.jpg'\n",
    "name_img = filename[-11:]\n",
    "filenameSR = filename[:-12] +'\\\\SR\\\\'+name_img\n",
    "\n",
    "print(f\"filename: {filename}\\nnameimg: {name_img}\\nfilenameSR: {filenameSR}\")\n",
    "\n",
    "\n",
    "# Check metrics for a standard image AA\n",
    "fig = search(SR=False)[0]\n",
    "label = fig._suptitle.get_text()\n",
    "fig.suptitle(label+\"\\nStandard Image.\")\n",
    "\n",
    "print(\"..------------------- First search\")\n",
    "\n",
    "import cv2 as cv\n",
    "img = cv.imread(filename)\n",
    "img = cv.cvtColor(img,cv.COLOR_BGR2RGB)\n",
    "\n",
    "import matplotlib.pyplot as plt\n",
    "\n",
    "# Working on the quality of the image\n",
    "img_res = ie.downscale(enhancer.filtering(enhancer.upscale(img)),2)\n",
    "\n",
    "\n",
    "#upsample AB\n",
    "img_up = enhancer.upscale(img)\n",
    "cv.imwrite(filenameSR ,cv.cvtColor(img_up,cv.COLOR_RGB2BGR))\n",
    "fig = search(SR=True)[0]\n",
    "label = fig._suptitle.get_text()\n",
    "fig.suptitle(label+\"\\nOnly Upsample.\")\n",
    "\n",
    "#filtering AC\n",
    "img_up_filt = enhancer.filtering(img_up)\n",
    "cv.imwrite(filenameSR ,cv.cvtColor(img_up_filt,cv.COLOR_RGB2BGR))\n",
    "fig = search(SR=True)[0]\n",
    "label = fig._suptitle.get_text()\n",
    "fig.suptitle(label+\"\\nUpsample + sharpening.\")\n",
    "\n",
    "#down sampling AD\n",
    "img_up_filt_down = ie.downscale(img_up_filt,2)\n",
    "cv.imwrite(filenameSR ,cv.cvtColor(img_up_filt_down,cv.COLOR_RGB2BGR))\n",
    "fig = search(SR=True)[0]\n",
    "label = fig._suptitle.get_text()\n",
    "fig.suptitle(label+\"\\nUpsample + sharpening + downscale\")\n",
    "\n",
    "#reset\n",
    "\n",
    "#filtering AE !\n",
    "img_filt = enhancer.filtering(img)\n",
    "cv.imwrite(filenameSR ,cv.cvtColor(img_filt,cv.COLOR_RGB2BGR))\n",
    "fig = search(SR=True)[0]\n",
    "label = fig._suptitle.get_text()\n",
    "fig.suptitle(label+\"\\nOnly sharpening.\")\n",
    "\n",
    "#upsample AF\n",
    "img_filt_up = enhancer.upscale(img_filt)\n",
    "cv.imwrite(filenameSR ,cv.cvtColor(img_filt_up,cv.COLOR_RGB2BGR))\n",
    "fig = search(SR=True)[0]\n",
    "label = fig._suptitle.get_text()\n",
    "fig.suptitle(label+\"\\nSharpening + Upscale\")\n",
    "\n",
    "\n",
    "sys.stdout = stdout_sav\n",
    "sys.stderr = stderr_sav\n",
    "fout.close()\n",
    "\n",
    "# Save the superresoluted image\n",
    "\n",
    "cv.imwrite(filenameSR ,cv.cvtColor(img_res,cv.COLOR_RGB2BGR))\n",
    "# Check metrics for the transformed one\n",
    "\n",
    "fig = plt.figure()\n",
    "\n",
    "fig.add_subplot(1,2,1)\n",
    "\n",
    "plt.imshow(img)\n",
    "fig.add_subplot(1,2,2)\n",
    "\n",
    "plt.imshow(img_res)\n"
   ]
  },
  {
   "cell_type": "code",
   "execution_count": 19,
   "metadata": {},
   "outputs": [],
   "source": [
    "# Prendo un immagine per ogni persona dal validation set\n",
    "\n",
    "# reid\\CelebREID_empty\\prcc.tar\\prcc\\prcc\\rgb\\val\n",
    "import random\n",
    "import os\n",
    "import cv2 as cv\n",
    "import shutil\n",
    "import matplotlib.pyplot as plt\n",
    "source_dir = os.getcwd() + '\\\\reid\\\\CelebREID_empty\\\\prcc.tar\\\\prcc\\\\prcc\\\\rgb\\\\val\\\\'\n",
    "VAL_PATH = r'reid\\CelebREID_empty\\prcc.tar\\prcc\\prcc\\rgb\\val'\n",
    "target_dir = os.getcwd() + r'\\reid\\CelebREID_empty\\testImages'\n",
    "\n",
    "for i in os.listdir(VAL_PATH):\n",
    "    # i: folder for every person in the dataset\n",
    "    files=os.listdir(VAL_PATH+\"\\\\\"+i)\n",
    "    d=random.choice(files)  # d namefiles for the person\n",
    "    name_comp = i+\"_\"+d[-7:]\n",
    "    shutil.copy(source_dir+i+\"\\\\\"+d, target_dir+\"\\\\\"+name_comp) # reid\\CelebREID_empty\\testImages"
   ]
  },
  {
   "cell_type": "code",
   "execution_count": 1,
   "metadata": {},
   "outputs": [
    {
     "name": "stderr",
     "output_type": "stream",
     "text": [
      "c:\\Users\\Leonardo\\anaconda3\\envs\\generic\\lib\\site-packages\\tqdm\\auto.py:22: TqdmWarning: IProgress not found. Please update jupyter and ipywidgets. See https://ipywidgets.readthedocs.io/en/stable/user_install.html\n",
      "  from .autonotebook import tqdm as notebook_tqdm\n"
     ]
    }
   ],
   "source": [
    "import os\n",
    "import cv2 as cv\n",
    "import imagenhancer as ie\n",
    "\n",
    "model_path_x4 = '.\\\\RealESRGANmaster\\\\weights\\\\RealESRGAN_x4plus.pth'\n",
    "enhancer = ie.RealESRGANx2(model_path = model_path_x4,scale_= 4)\n",
    "op_list=[\"\",\"UP\",\"FILT\",\"UP_FILT\",\"FILT_UP\",\"UP_FILT_DOWN\"]"
   ]
  },
  {
   "cell_type": "code",
   "execution_count": null,
   "metadata": {},
   "outputs": [],
   "source": [
    "# Complete, do this when you are just starting out\n",
    "TEST_DIR = os.path.abspath(os.getcwd())+r\"\\reid\\CelebREID_empty\\testimages\"\n",
    "\n",
    "for i in os.listdir(TEST_DIR):\n",
    "    if i[-4:] == '.jpg':\n",
    "        img = cv.cvtColor(cv.imread(TEST_DIR+\"\\\\\"+i), cv.COLOR_BGR2RGB)\n",
    "        res = img\n",
    "        for ind, op in enumerate(op_list):\n",
    "            if op == \"UP\":\n",
    "                res = enhancer.upscale(img)\n",
    "                if res == img:\n",
    "                    print(\"ERROR\")\n",
    "\n",
    "            elif op == \"FILT\":\n",
    "                res = enhancer.filtering(img)\n",
    "\n",
    "            elif op == \"FILT_UP\":\n",
    "                res = enhancer.filt_up(img)\n",
    "            \n",
    "            elif op == \"UP_FILT\":\n",
    "                res = enhancer.up_filt(img)\n",
    "\n",
    "            \n",
    "            elif op == \"UP_FILT_DOWN\":\n",
    "                res = enhancer.up_filt_down(img)\n",
    "\n",
    "            res_filename = TEST_DIR+\"\\\\\"+op+\"\\\\\"+i\n",
    "            cv.imwrite(res_filename, cv.cvtColor(res, cv.COLOR_RGB2BGR))"
   ]
  },
  {
   "cell_type": "code",
   "execution_count": 2,
   "metadata": {},
   "outputs": [
    {
     "name": "stderr",
     "output_type": "stream",
     "text": [
      "C:\\Users\\Leonardo\\AppData\\Local\\Temp\\ipykernel_15324\\2331656485.py:11: DeprecationWarning: elementwise comparison failed; this will raise an error in the future.\n",
      "  if res == img:\n"
     ]
    },
    {
     "name": "stdout",
     "output_type": "stream",
     "text": [
      "W: 178, H: 490\n",
      "W: 190, H: 546\n",
      "W: 154, H: 466\n",
      "W: 246, H: 716\n",
      "W: 182, H: 558\n",
      "W: 210, H: 690\n",
      "W: 190, H: 586\n"
     ]
    }
   ],
   "source": [
    "# Do this when you are testing a particular operation\n",
    "TEST_DIR = os.path.abspath(os.getcwd())+r\"\\reid\\CelebREID_empty\\testimages\"\n",
    "\n",
    "for i in os.listdir(TEST_DIR):\n",
    "    if i[-4:] == '.jpg':\n",
    "        img = cv.cvtColor(cv.imread(TEST_DIR+\"\\\\\"+i), cv.COLOR_BGR2RGB)\n",
    "        res = img\n",
    "        for ind, op in enumerate(op_list):\n",
    "            if op == \"UP\":\n",
    "                res = enhancer.upscale(img)\n",
    "                if res == img:\n",
    "                    print(\"ERROR\")\n",
    "\n",
    "            elif op == \"FILT\":\n",
    "                res = enhancer.filtering(img,0)\n",
    "\n",
    "            elif op == \"FILT_UP\":\n",
    "                res = enhancer.filt_up(img)\n",
    "            \n",
    "            elif op == \"UP_FILT\":\n",
    "                res = enhancer.up_filt(img)\n",
    "\n",
    "            \n",
    "            elif op == \"UP_FILT_DOWN\":\n",
    "                res = enhancer.up_filt_down(img)\n",
    "\n",
    "            res_filename = TEST_DIR+\"\\\\\"+op+\"\\\\\"+i\n",
    "            cv.imwrite(res_filename, cv.cvtColor(res, cv.COLOR_RGB2BGR))"
   ]
  },
  {
   "cell_type": "code",
   "execution_count": 3,
   "metadata": {},
   "outputs": [
    {
     "name": "stderr",
     "output_type": "stream",
     "text": [
      "c:\\Users\\Leonardo\\anaconda3\\envs\\generic\\lib\\site-packages\\sklearn\\utils\\deprecation.py:144: FutureWarning: The sklearn.metrics.base module is  deprecated in version 0.22 and will be removed in version 0.24. The corresponding classes / functions should instead be imported from sklearn.metrics. Anything that cannot be imported from sklearn.metrics is now part of the private API.\n",
      "  warnings.warn(message, FutureWarning)\n",
      "c:\\Users\\Leonardo\\anaconda3\\envs\\generic\\lib\\site-packages\\torchvision\\transforms\\transforms.py:329: UserWarning: Argument 'interpolation' of type int is deprecated since 0.13 and will be removed in 0.15. Please use InterpolationMode enum.\n",
      "  warnings.warn(\n",
      "c:\\Users\\Leonardo\\anaconda3\\envs\\generic\\lib\\site-packages\\torchvision\\models\\_utils.py:208: UserWarning: The parameter 'pretrained' is deprecated since 0.13 and may be removed in the future, please use 'weights' instead.\n",
      "  warnings.warn(\n",
      "c:\\Users\\Leonardo\\anaconda3\\envs\\generic\\lib\\site-packages\\torchvision\\models\\_utils.py:223: UserWarning: Arguments other than a weight enum or `None` for 'weights' are deprecated since 0.13 and may be removed in the future. The current behavior is equivalent to passing `weights=DenseNet121_Weights.IMAGENET1K_V1`. You can also use `weights=DenseNet121_Weights.DEFAULT` to get the most up-to-date weights.\n",
      "  warnings.warn(msg)\n"
     ]
    },
    {
     "name": "stdout",
     "output_type": "stream",
     "text": [
      "c:\\Users\\Leonardo\\Documents\\Repo Github\\People-Analyzer\\SR\n",
      "c:\\Users\\Leonardo\\Documents\\Repo Github\\People-Analyzer\\SR\\reid\\CelebREID_empty\\testimages\\\n",
      "c:\\Users\\Leonardo\\Documents\\Repo Github\\People-Analyzer\\SR\\reid\\CelebREID_empty\\testimages\\\n",
      "=> Loaded checkpoint 'C:\\Users\\Leonardo\\Documents\\Universita\\CVCS\\PRJ\\reid\\model.pth.tar'\n"
     ]
    },
    {
     "name": "stderr",
     "output_type": "stream",
     "text": [
      "c:\\Users\\Leonardo\\Documents\\Repo Github\\People-Analyzer\\SR\\reid\\CelebREID_empty\\reid\\evaluator.py:20: UserWarning: volatile was removed and now has no effect. Use `with torch.no_grad():` instead.\n",
      "  inputs = Variable(inputs, volatile=True)\n"
     ]
    },
    {
     "name": "stdout",
     "output_type": "stream",
     "text": [
      "10-Precision: 0.3 - Recall: 0.1034\n",
      "10-Precision: 0.5 - Recall: 0.1136\n",
      "10-Precision: 0.4 - Recall: 0.1176\n",
      "10-Precision: 0.3 - Recall: 0.0811\n",
      "10-Precision: 0.3 - Recall: 0.0882\n",
      "10-Precision: 0.7 - Recall: 0.1892\n",
      "10-Precision: 0.5 - Recall: 0.1515\n",
      "c:\\Users\\Leonardo\\Documents\\Repo Github\\People-Analyzer\\SR\\reid\\CelebREID_empty\\testimages\\UP\n",
      "c:\\Users\\Leonardo\\Documents\\Repo Github\\People-Analyzer\\SR\\reid\\CelebREID_empty\\testimages\\UP\n"
     ]
    },
    {
     "name": "stderr",
     "output_type": "stream",
     "text": [
      "c:\\Users\\Leonardo\\anaconda3\\envs\\generic\\lib\\site-packages\\torchvision\\transforms\\transforms.py:329: UserWarning: Argument 'interpolation' of type int is deprecated since 0.13 and will be removed in 0.15. Please use InterpolationMode enum.\n",
      "  warnings.warn(\n",
      "c:\\Users\\Leonardo\\anaconda3\\envs\\generic\\lib\\site-packages\\torchvision\\models\\_utils.py:208: UserWarning: The parameter 'pretrained' is deprecated since 0.13 and may be removed in the future, please use 'weights' instead.\n",
      "  warnings.warn(\n",
      "c:\\Users\\Leonardo\\anaconda3\\envs\\generic\\lib\\site-packages\\torchvision\\models\\_utils.py:223: UserWarning: Arguments other than a weight enum or `None` for 'weights' are deprecated since 0.13 and may be removed in the future. The current behavior is equivalent to passing `weights=DenseNet121_Weights.IMAGENET1K_V1`. You can also use `weights=DenseNet121_Weights.DEFAULT` to get the most up-to-date weights.\n",
      "  warnings.warn(msg)\n"
     ]
    },
    {
     "name": "stdout",
     "output_type": "stream",
     "text": [
      "=> Loaded checkpoint 'C:\\Users\\Leonardo\\Documents\\Universita\\CVCS\\PRJ\\reid\\model.pth.tar'\n"
     ]
    },
    {
     "name": "stderr",
     "output_type": "stream",
     "text": [
      "c:\\Users\\Leonardo\\Documents\\Repo Github\\People-Analyzer\\SR\\reid\\CelebREID_empty\\reid\\evaluator.py:20: UserWarning: volatile was removed and now has no effect. Use `with torch.no_grad():` instead.\n",
      "  inputs = Variable(inputs, volatile=True)\n"
     ]
    },
    {
     "name": "stdout",
     "output_type": "stream",
     "text": [
      "10-Precision: 0.4 - Recall: 0.1379\n",
      "10-Precision: 0.7 - Recall: 0.1591\n",
      "10-Precision: 0.3 - Recall: 0.0882\n",
      "10-Precision: 0.4 - Recall: 0.1081\n",
      "10-Precision: 0.3 - Recall: 0.0882\n",
      "10-Precision: 0.3 - Recall: 0.0811\n",
      "10-Precision: 0.5 - Recall: 0.1515\n",
      "c:\\Users\\Leonardo\\Documents\\Repo Github\\People-Analyzer\\SR\\reid\\CelebREID_empty\\testimages\\FILT\n",
      "c:\\Users\\Leonardo\\Documents\\Repo Github\\People-Analyzer\\SR\\reid\\CelebREID_empty\\testimages\\FILT\n"
     ]
    },
    {
     "name": "stderr",
     "output_type": "stream",
     "text": [
      "c:\\Users\\Leonardo\\anaconda3\\envs\\generic\\lib\\site-packages\\torchvision\\transforms\\transforms.py:329: UserWarning: Argument 'interpolation' of type int is deprecated since 0.13 and will be removed in 0.15. Please use InterpolationMode enum.\n",
      "  warnings.warn(\n",
      "c:\\Users\\Leonardo\\anaconda3\\envs\\generic\\lib\\site-packages\\torchvision\\models\\_utils.py:208: UserWarning: The parameter 'pretrained' is deprecated since 0.13 and may be removed in the future, please use 'weights' instead.\n",
      "  warnings.warn(\n",
      "c:\\Users\\Leonardo\\anaconda3\\envs\\generic\\lib\\site-packages\\torchvision\\models\\_utils.py:223: UserWarning: Arguments other than a weight enum or `None` for 'weights' are deprecated since 0.13 and may be removed in the future. The current behavior is equivalent to passing `weights=DenseNet121_Weights.IMAGENET1K_V1`. You can also use `weights=DenseNet121_Weights.DEFAULT` to get the most up-to-date weights.\n",
      "  warnings.warn(msg)\n"
     ]
    },
    {
     "name": "stdout",
     "output_type": "stream",
     "text": [
      "=> Loaded checkpoint 'C:\\Users\\Leonardo\\Documents\\Universita\\CVCS\\PRJ\\reid\\model.pth.tar'\n"
     ]
    },
    {
     "name": "stderr",
     "output_type": "stream",
     "text": [
      "c:\\Users\\Leonardo\\Documents\\Repo Github\\People-Analyzer\\SR\\reid\\CelebREID_empty\\reid\\evaluator.py:20: UserWarning: volatile was removed and now has no effect. Use `with torch.no_grad():` instead.\n",
      "  inputs = Variable(inputs, volatile=True)\n"
     ]
    },
    {
     "name": "stdout",
     "output_type": "stream",
     "text": [
      "10-Precision: 0.3 - Recall: 0.1034\n",
      "10-Precision: 0.8 - Recall: 0.1818\n",
      "10-Precision: 0.3 - Recall: 0.0882\n",
      "10-Precision: 0.4 - Recall: 0.1081\n",
      "10-Precision: 0.4 - Recall: 0.1176\n",
      "10-Precision: 0.8 - Recall: 0.2162\n",
      "10-Precision: 0.7 - Recall: 0.2121\n",
      "c:\\Users\\Leonardo\\Documents\\Repo Github\\People-Analyzer\\SR\\reid\\CelebREID_empty\\testimages\\UP_FILT\n",
      "c:\\Users\\Leonardo\\Documents\\Repo Github\\People-Analyzer\\SR\\reid\\CelebREID_empty\\testimages\\UP_FILT\n"
     ]
    },
    {
     "name": "stderr",
     "output_type": "stream",
     "text": [
      "c:\\Users\\Leonardo\\anaconda3\\envs\\generic\\lib\\site-packages\\torchvision\\transforms\\transforms.py:329: UserWarning: Argument 'interpolation' of type int is deprecated since 0.13 and will be removed in 0.15. Please use InterpolationMode enum.\n",
      "  warnings.warn(\n",
      "c:\\Users\\Leonardo\\anaconda3\\envs\\generic\\lib\\site-packages\\torchvision\\models\\_utils.py:208: UserWarning: The parameter 'pretrained' is deprecated since 0.13 and may be removed in the future, please use 'weights' instead.\n",
      "  warnings.warn(\n",
      "c:\\Users\\Leonardo\\anaconda3\\envs\\generic\\lib\\site-packages\\torchvision\\models\\_utils.py:223: UserWarning: Arguments other than a weight enum or `None` for 'weights' are deprecated since 0.13 and may be removed in the future. The current behavior is equivalent to passing `weights=DenseNet121_Weights.IMAGENET1K_V1`. You can also use `weights=DenseNet121_Weights.DEFAULT` to get the most up-to-date weights.\n",
      "  warnings.warn(msg)\n"
     ]
    },
    {
     "name": "stdout",
     "output_type": "stream",
     "text": [
      "=> Loaded checkpoint 'C:\\Users\\Leonardo\\Documents\\Universita\\CVCS\\PRJ\\reid\\model.pth.tar'\n"
     ]
    },
    {
     "name": "stderr",
     "output_type": "stream",
     "text": [
      "c:\\Users\\Leonardo\\Documents\\Repo Github\\People-Analyzer\\SR\\reid\\CelebREID_empty\\reid\\evaluator.py:20: UserWarning: volatile was removed and now has no effect. Use `with torch.no_grad():` instead.\n",
      "  inputs = Variable(inputs, volatile=True)\n"
     ]
    },
    {
     "name": "stdout",
     "output_type": "stream",
     "text": [
      "10-Precision: 0.4 - Recall: 0.1379\n",
      "10-Precision: 0.7 - Recall: 0.1591\n",
      "10-Precision: 0.0 - Recall: 0.0\n",
      "10-Precision: 0.4 - Recall: 0.1081\n",
      "10-Precision: 0.2 - Recall: 0.0588\n",
      "10-Precision: 0.3 - Recall: 0.0811\n",
      "10-Precision: 0.4 - Recall: 0.1212\n",
      "c:\\Users\\Leonardo\\Documents\\Repo Github\\People-Analyzer\\SR\\reid\\CelebREID_empty\\testimages\\FILT_UP\n",
      "c:\\Users\\Leonardo\\Documents\\Repo Github\\People-Analyzer\\SR\\reid\\CelebREID_empty\\testimages\\FILT_UP\n"
     ]
    },
    {
     "name": "stderr",
     "output_type": "stream",
     "text": [
      "c:\\Users\\Leonardo\\anaconda3\\envs\\generic\\lib\\site-packages\\torchvision\\transforms\\transforms.py:329: UserWarning: Argument 'interpolation' of type int is deprecated since 0.13 and will be removed in 0.15. Please use InterpolationMode enum.\n",
      "  warnings.warn(\n",
      "c:\\Users\\Leonardo\\anaconda3\\envs\\generic\\lib\\site-packages\\torchvision\\models\\_utils.py:208: UserWarning: The parameter 'pretrained' is deprecated since 0.13 and may be removed in the future, please use 'weights' instead.\n",
      "  warnings.warn(\n",
      "c:\\Users\\Leonardo\\anaconda3\\envs\\generic\\lib\\site-packages\\torchvision\\models\\_utils.py:223: UserWarning: Arguments other than a weight enum or `None` for 'weights' are deprecated since 0.13 and may be removed in the future. The current behavior is equivalent to passing `weights=DenseNet121_Weights.IMAGENET1K_V1`. You can also use `weights=DenseNet121_Weights.DEFAULT` to get the most up-to-date weights.\n",
      "  warnings.warn(msg)\n"
     ]
    },
    {
     "name": "stdout",
     "output_type": "stream",
     "text": [
      "=> Loaded checkpoint 'C:\\Users\\Leonardo\\Documents\\Universita\\CVCS\\PRJ\\reid\\model.pth.tar'\n"
     ]
    },
    {
     "name": "stderr",
     "output_type": "stream",
     "text": [
      "c:\\Users\\Leonardo\\Documents\\Repo Github\\People-Analyzer\\SR\\reid\\CelebREID_empty\\reid\\evaluator.py:20: UserWarning: volatile was removed and now has no effect. Use `with torch.no_grad():` instead.\n",
      "  inputs = Variable(inputs, volatile=True)\n"
     ]
    },
    {
     "name": "stdout",
     "output_type": "stream",
     "text": [
      "10-Precision: 0.4 - Recall: 0.1379\n",
      "10-Precision: 0.6 - Recall: 0.1364\n",
      "10-Precision: 0.3 - Recall: 0.0882\n",
      "10-Precision: 0.4 - Recall: 0.1081\n",
      "10-Precision: 0.3 - Recall: 0.0882\n",
      "10-Precision: 0.3 - Recall: 0.0811\n",
      "10-Precision: 0.5 - Recall: 0.1515\n",
      "c:\\Users\\Leonardo\\Documents\\Repo Github\\People-Analyzer\\SR\\reid\\CelebREID_empty\\testimages\\UP_FILT_DOWN\n",
      "c:\\Users\\Leonardo\\Documents\\Repo Github\\People-Analyzer\\SR\\reid\\CelebREID_empty\\testimages\\UP_FILT_DOWN\n"
     ]
    },
    {
     "name": "stderr",
     "output_type": "stream",
     "text": [
      "c:\\Users\\Leonardo\\anaconda3\\envs\\generic\\lib\\site-packages\\torchvision\\transforms\\transforms.py:329: UserWarning: Argument 'interpolation' of type int is deprecated since 0.13 and will be removed in 0.15. Please use InterpolationMode enum.\n",
      "  warnings.warn(\n",
      "c:\\Users\\Leonardo\\anaconda3\\envs\\generic\\lib\\site-packages\\torchvision\\models\\_utils.py:208: UserWarning: The parameter 'pretrained' is deprecated since 0.13 and may be removed in the future, please use 'weights' instead.\n",
      "  warnings.warn(\n",
      "c:\\Users\\Leonardo\\anaconda3\\envs\\generic\\lib\\site-packages\\torchvision\\models\\_utils.py:223: UserWarning: Arguments other than a weight enum or `None` for 'weights' are deprecated since 0.13 and may be removed in the future. The current behavior is equivalent to passing `weights=DenseNet121_Weights.IMAGENET1K_V1`. You can also use `weights=DenseNet121_Weights.DEFAULT` to get the most up-to-date weights.\n",
      "  warnings.warn(msg)\n"
     ]
    },
    {
     "name": "stdout",
     "output_type": "stream",
     "text": [
      "=> Loaded checkpoint 'C:\\Users\\Leonardo\\Documents\\Universita\\CVCS\\PRJ\\reid\\model.pth.tar'\n"
     ]
    },
    {
     "name": "stderr",
     "output_type": "stream",
     "text": [
      "c:\\Users\\Leonardo\\Documents\\Repo Github\\People-Analyzer\\SR\\reid\\CelebREID_empty\\reid\\evaluator.py:20: UserWarning: volatile was removed and now has no effect. Use `with torch.no_grad():` instead.\n",
      "  inputs = Variable(inputs, volatile=True)\n"
     ]
    },
    {
     "name": "stdout",
     "output_type": "stream",
     "text": [
      "10-Precision: 0.4 - Recall: 0.1379\n",
      "10-Precision: 0.7 - Recall: 0.1591\n",
      "10-Precision: 0.4 - Recall: 0.1176\n",
      "10-Precision: 0.4 - Recall: 0.1081\n",
      "10-Precision: 0.1 - Recall: 0.0294\n",
      "10-Precision: 0.3 - Recall: 0.0811\n",
      "10-Precision: 0.4 - Recall: 0.1212\n"
     ]
    }
   ],
   "source": [
    "from reid.CelebREID_empty.searchImage import search\n",
    "\n",
    "results = list()\n",
    "\n",
    "for i in op_list:\n",
    "    tmp_dict = dict()\n",
    "    TEST_DIR = os.path.abspath(os.getcwd())+r\"\\reid\\CelebREID_empty\\testimages\"+\"\\\\\"+i\n",
    "    print(TEST_DIR)\n",
    "    tmp_dict = search(True,TEST_DIR)\n",
    "    results.append(tmp_dict)"
   ]
  },
  {
   "cell_type": "code",
   "execution_count": 4,
   "metadata": {},
   "outputs": [],
   "source": [
    "#primo indice raggruppa per operazione\n",
    "#secondo indice dizionario per immagineb\n",
    "p_list={}\n",
    "r_list={}\n",
    "\n",
    "for i in results:    \n",
    "    l = len(i)\n",
    "    \n",
    "    op = i[0][\"operation\"]\n",
    "    if op==\"\":\n",
    "        op=\"std\"\n",
    "    p_list[op]=0\n",
    "    r_list[op]=0\n",
    "    for ind in i:\n",
    "        p_list[op]+=ind[\"precision\"]/l\n",
    "        r_list[op]+=ind[\"recall\"]/l"
   ]
  },
  {
   "cell_type": "code",
   "execution_count": 5,
   "metadata": {},
   "outputs": [
    {
     "name": "stdout",
     "output_type": "stream",
     "text": [
      "precision std : 0.4285714285714286\n",
      "recall std : 0.12065714285714285\n",
      "___________________________\n",
      "precision UP : 0.41428571428571437\n",
      "recall UP : 0.1163\n",
      "___________________________\n",
      "precision FILT : 0.5285714285714286\n",
      "recall FILT : 0.14677142857142855\n",
      "___________________________\n",
      "precision UP_FILT : 0.3428571428571429\n",
      "recall UP_FILT : 0.09517142857142857\n",
      "___________________________\n",
      "precision FILT_UP : 0.4\n",
      "recall FILT_UP : 0.11305714285714286\n",
      "___________________________\n",
      "precision UP_FILT_DOWN : 0.3857142857142858\n",
      "recall UP_FILT_DOWN : 0.10777142857142856\n",
      "___________________________\n"
     ]
    }
   ],
   "source": [
    "for i in p_list.keys():\n",
    "    print(f\"precision {i} : {p_list[i]}\")\n",
    "    print(f\"recall {i} : {r_list[i]}\")\n",
    "    print(\"___________________________\")"
   ]
  },
  {
   "cell_type": "code",
   "execution_count": 12,
   "metadata": {},
   "outputs": [
    {
     "data": {
      "text/plain": [
       "6"
      ]
     },
     "execution_count": 12,
     "metadata": {},
     "output_type": "execute_result"
    }
   ],
   "source": [
    "len(results) #Primo indice indica l'operazione"
   ]
  },
  {
   "cell_type": "code",
   "execution_count": 13,
   "metadata": {},
   "outputs": [
    {
     "data": {
      "text/plain": [
       "19"
      ]
     },
     "execution_count": 13,
     "metadata": {},
     "output_type": "execute_result"
    }
   ],
   "source": [
    "len(results[0]) #secondo indice l'immagine"
   ]
  },
  {
   "cell_type": "code",
   "execution_count": 34,
   "metadata": {},
   "outputs": [],
   "source": [
    "import numpy as np\n",
    "p_std = list()\n",
    "for op in results[0]:\n",
    "    p_std.append(op[\"precision\"])\n",
    "\n",
    "p_std = np.array(p_std)"
   ]
  },
  {
   "cell_type": "code",
   "execution_count": 43,
   "metadata": {},
   "outputs": [],
   "source": [
    "measure = list()\n",
    "for i,op in enumerate(results):\n",
    "    p_up = list()\n",
    "    for i in op:\n",
    "        p_up.append(i[\"precision\"])\n",
    "    measure.append(np.array(p_up))\n"
   ]
  },
  {
   "cell_type": "code",
   "execution_count": 56,
   "metadata": {},
   "outputs": [
    {
     "data": {
      "text/plain": [
       "[array([0.3, 0.5, 0.4, 0.9, 0.2, 0.6, 0.3, 0.6, 0.3, 0.3, 0.3, 0.9, 0.8,\n",
       "        0.3, 0.7, 0.4, 0.9, 0.9, 0.5]),\n",
       " array([0.4, 0.7, 0.3, 0.9, 0.2, 0.5, 0.4, 0.3, 0.3, 0.2, 0.3, 0.8, 0.6,\n",
       "        0.4, 0.3, 0.5, 0.9, 0.8, 0.4]),\n",
       " array([0.3, 0.8, 0.3, 0.9, 0.2, 0.6, 0.4, 0.5, 0.1, 0.3, 0.4, 0.9, 0.7,\n",
       "        0.3, 0.7, 0.4, 0.9, 0.9, 0.7]),\n",
       " array([0.4, 0.5, 0.5, 0.9, 0.2, 0.5, 0.4, 0.3, 0.2, 0.2, 0.4, 0.9, 0.6,\n",
       "        0.6, 0.3, 0.5, 0.9, 0.8, 0.5]),\n",
       " array([0.3, 0.2, 0.1, 0.7, 0.2, 0.6, 0.3, 0.4, 0. , 0.3, 0.3, 0.7, 0.6,\n",
       "        0. , 0.3, 0.4, 0.9, 0.5, 0.1]),\n",
       " array([0.4, 0.5, 0.5, 0.9, 0.2, 0.5, 0.4, 0.3, 0.3, 0.2, 0.4, 0.9, 0.6,\n",
       "        0.6, 0.3, 0.5, 0.9, 0.8, 0.6])]"
      ]
     },
     "execution_count": 56,
     "metadata": {},
     "output_type": "execute_result"
    }
   ],
   "source": [
    "measure"
   ]
  },
  {
   "cell_type": "code",
   "execution_count": null,
   "metadata": {},
   "outputs": [],
   "source": [
    "p_up"
   ]
  },
  {
   "cell_type": "code",
   "execution_count": null,
   "metadata": {},
   "outputs": [],
   "source": []
  }
 ],
 "metadata": {
  "kernelspec": {
   "display_name": "generic",
   "language": "python",
   "name": "python3"
  },
  "language_info": {
   "codemirror_mode": {
    "name": "ipython",
    "version": 3
   },
   "file_extension": ".py",
   "mimetype": "text/x-python",
   "name": "python",
   "nbconvert_exporter": "python",
   "pygments_lexer": "ipython3",
   "version": "3.8.13"
  },
  "orig_nbformat": 4,
  "vscode": {
   "interpreter": {
    "hash": "2c15f893695056e577366fe69c89e54e0628f9b2e926d02b3ab453b18204a414"
   }
  }
 },
 "nbformat": 4,
 "nbformat_minor": 2
}
