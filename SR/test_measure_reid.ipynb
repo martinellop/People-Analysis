{
 "cells": [
  {
   "cell_type": "code",
   "execution_count": null,
   "metadata": {},
   "outputs": [],
   "source": [
    "import imagenhancer as ie\n",
    "import numpy as np\n",
    "import torch\n",
    "import matplotlib.pyplot as plt \n",
    "import cv2 as cv\n",
    "import sys\n",
    "sys.argv = ['']\n",
    "\n",
    "import sys\n",
    "stdout_sav = sys.stdout\n",
    "stderr_sav = sys.stderr\n",
    "fout = open('file.log', 'w')\n",
    "sys.stdout = fout\n",
    "sys.stderr = fout\n",
    "\n",
    "model_path_x4 = '.\\\\RealESRGANmaster\\\\weights\\\\RealESRGAN_x4plus.pth'\n",
    "\n",
    "enhancer = ie.RealESRGANx2(model_path = model_path_x4,scale_= 4)\n",
    "\n",
    "from reid.CelebREID_empty.searchImage import search\n",
    "\n",
    "filename = r'C:\\Users\\Leonardo\\Documents\\Universita\\CVCS\\PRJ\\reid\\CelebREID_empty\\testImages\\313_001.jpg'\n",
    "name_img = filename[-11:]\n",
    "filenameSR = filename[:-12] +'\\\\SR\\\\'+name_img\n",
    "\n",
    "print(f\"filename: {filename}\\nnameimg: {name_img}\\nfilenameSR: {filenameSR}\")\n",
    "\n",
    "\n",
    "# Check metrics for a standard image AA\n",
    "fig = search(SR=False)[0]\n",
    "label = fig._suptitle.get_text()\n",
    "fig.suptitle(label+\"\\nStandard Image.\")\n",
    "\n",
    "print(\"..------------------- First search\")\n",
    "\n",
    "import cv2 as cv\n",
    "img = cv.imread(filename)\n",
    "img = cv.cvtColor(img,cv.COLOR_BGR2RGB)\n",
    "\n",
    "import matplotlib.pyplot as plt\n",
    "\n",
    "# Working on the quality of the image\n",
    "img_res = ie.downscale(enhancer.filtering(enhancer.upscale(img)),2)\n",
    "\n",
    "\n",
    "#upsample AB\n",
    "img_up = enhancer.upscale(img)\n",
    "cv.imwrite(filenameSR ,cv.cvtColor(img_up,cv.COLOR_RGB2BGR))\n",
    "fig = search(SR=True)[0]\n",
    "label = fig._suptitle.get_text()\n",
    "fig.suptitle(label+\"\\nOnly Upsample.\")\n",
    "\n",
    "#filtering AC\n",
    "img_up_filt = enhancer.filtering(img_up)\n",
    "cv.imwrite(filenameSR ,cv.cvtColor(img_up_filt,cv.COLOR_RGB2BGR))\n",
    "fig = search(SR=True)[0]\n",
    "label = fig._suptitle.get_text()\n",
    "fig.suptitle(label+\"\\nUpsample + sharpening.\")\n",
    "\n",
    "#down sampling AD\n",
    "img_up_filt_down = ie.downscale(img_up_filt,2)\n",
    "cv.imwrite(filenameSR ,cv.cvtColor(img_up_filt_down,cv.COLOR_RGB2BGR))\n",
    "fig = search(SR=True)[0]\n",
    "label = fig._suptitle.get_text()\n",
    "fig.suptitle(label+\"\\nUpsample + sharpening + downscale\")\n",
    "\n",
    "#reset\n",
    "\n",
    "#filtering AE !\n",
    "img_filt = enhancer.filtering(img)\n",
    "cv.imwrite(filenameSR ,cv.cvtColor(img_filt,cv.COLOR_RGB2BGR))\n",
    "fig = search(SR=True)[0]\n",
    "label = fig._suptitle.get_text()\n",
    "fig.suptitle(label+\"\\nOnly sharpening.\")\n",
    "\n",
    "#upsample AF\n",
    "img_filt_up = enhancer.upscale(img_filt)\n",
    "cv.imwrite(filenameSR ,cv.cvtColor(img_filt_up,cv.COLOR_RGB2BGR))\n",
    "fig = search(SR=True)[0]\n",
    "label = fig._suptitle.get_text()\n",
    "fig.suptitle(label+\"\\nSharpening + Upscale\")\n",
    "\n",
    "\n",
    "sys.stdout = stdout_sav\n",
    "sys.stderr = stderr_sav\n",
    "fout.close()\n",
    "\n",
    "# Save the superresoluted image\n",
    "\n",
    "cv.imwrite(filenameSR ,cv.cvtColor(img_res,cv.COLOR_RGB2BGR))\n",
    "# Check metrics for the transformed one\n",
    "\n",
    "fig = plt.figure()\n",
    "\n",
    "fig.add_subplot(1,2,1)\n",
    "\n",
    "plt.imshow(img)\n",
    "fig.add_subplot(1,2,2)\n",
    "\n",
    "plt.imshow(img_res)\n"
   ]
  },
  {
   "cell_type": "code",
   "execution_count": 1,
   "metadata": {},
   "outputs": [
    {
     "name": "stderr",
     "output_type": "stream",
     "text": [
      "c:\\Users\\Leonardo\\anaconda3\\envs\\generic\\lib\\site-packages\\tqdm\\auto.py:22: TqdmWarning: IProgress not found. Please update jupyter and ipywidgets. See https://ipywidgets.readthedocs.io/en/stable/user_install.html\n",
      "  from .autonotebook import tqdm as notebook_tqdm\n",
      "c:\\Users\\Leonardo\\anaconda3\\envs\\generic\\lib\\site-packages\\torchvision\\transforms\\transforms.py:329: UserWarning: Argument 'interpolation' of type int is deprecated since 0.13 and will be removed in 0.15. Please use InterpolationMode enum.\n",
      "  warnings.warn(\n",
      "c:\\Users\\Leonardo\\anaconda3\\envs\\generic\\lib\\site-packages\\torchvision\\models\\_utils.py:208: UserWarning: The parameter 'pretrained' is deprecated since 0.13 and may be removed in the future, please use 'weights' instead.\n",
      "  warnings.warn(\n",
      "c:\\Users\\Leonardo\\anaconda3\\envs\\generic\\lib\\site-packages\\torchvision\\models\\_utils.py:223: UserWarning: Arguments other than a weight enum or `None` for 'weights' are deprecated since 0.13 and may be removed in the future. The current behavior is equivalent to passing `weights=DenseNet121_Weights.IMAGENET1K_V1`. You can also use `weights=DenseNet121_Weights.DEFAULT` to get the most up-to-date weights.\n",
      "  warnings.warn(msg)\n"
     ]
    },
    {
     "name": "stdout",
     "output_type": "stream",
     "text": [
      "C:\\Users\\Leonardo\\Documents\\Universita\\CVCS\\PRJ\\reid\\CelebREID_empty\\testImages\\\n",
      "=> Loaded checkpoint 'C:\\Users\\Leonardo\\Documents\\Universita\\CVCS\\PRJ\\reid\\model.pth.tar'\n"
     ]
    },
    {
     "name": "stderr",
     "output_type": "stream",
     "text": [
      "c:\\Users\\Leonardo\\Documents\\Universita\\CVCS\\PRJ\\reid\\CelebREID_empty\\reid\\evaluator.py:20: UserWarning: volatile was removed and now has no effect. Use `with torch.no_grad():` instead.\n",
      "  inputs = Variable(inputs, volatile=True)\n"
     ]
    },
    {
     "name": "stdout",
     "output_type": "stream",
     "text": [
      "10-Precision: 0.7 - Recall: 0.2414\n",
      "10-Precision: 0.9 - Recall: 0.1667\n",
      "10-Precision: 0.3 - Recall: 0.0882\n",
      "10-Precision: 0.2 - Recall: 0.0606\n",
      "10-Precision: 0.7 - Recall: 0.1556\n",
      "10-Precision: 0.4 - Recall: 0.1176\n",
      "10-Precision: 0.8 - Recall: 0.2667\n",
      "10-Precision: 0.4 - Recall: 0.1429\n",
      "10-Precision: 0.1 - Recall: 0.0526\n",
      "10-Precision: 0.6 - Recall: 0.1622\n",
      "10-Precision: 0.9 - Recall: 0.1915\n",
      "10-Precision: 0.6 - Recall: 0.1765\n"
     ]
    }
   ],
   "source": [
    "import imagenhancer as ie\n",
    "import numpy as np\n",
    "import torch\n",
    "import matplotlib.pyplot as plt \n",
    "import cv2 as cv\n",
    "import sys\n",
    "sys.argv = ['']\n",
    "\n",
    "import sys\n",
    "stdout_sav = sys.stdout\n",
    "stderr_sav = sys.stderr\n",
    "fout = open('file.log', 'w')\n",
    "sys.stdout = fout\n",
    "sys.stderr = fout\n",
    "\n",
    "model_path_x4 = '.\\\\RealESRGANmaster\\\\weights\\\\RealESRGAN_x4plus.pth'\n",
    "enhancer = ie.RealESRGANx2(model_path = model_path_x4,scale_= 4)\n",
    "\n",
    "from reid.CelebREID_empty.searchImage import search\n",
    "\n",
    "fig_list = []\n",
    "mes_list = []\n",
    "\n",
    "sys.stdout = stdout_sav\n",
    "sys.stderr = stderr_sav\n",
    "fout.close()\n",
    "\n",
    "\n",
    "ret = search(SR=False)\n",
    "\n",
    "\n",
    "\n"
   ]
  },
  {
   "cell_type": "code",
   "execution_count": null,
   "metadata": {},
   "outputs": [],
   "source": [
    "ret[0] # dizionario relativo ad un immagine, contiene i 10 filenames oltre a precision e recall "
   ]
  },
  {
   "cell_type": "code",
   "execution_count": 19,
   "metadata": {},
   "outputs": [],
   "source": [
    "p=0\n",
    "r=0\n",
    "l = len(ret)\n",
    "for i in ret:\n",
    "    p+=i[\"precision\"]/l\n",
    "    r+=i[\"recall\"]/l"
   ]
  },
  {
   "cell_type": "code",
   "execution_count": 20,
   "metadata": {},
   "outputs": [
    {
     "data": {
      "text/plain": [
       "(0.55, 0.15187499999999998)"
      ]
     },
     "execution_count": 20,
     "metadata": {},
     "output_type": "execute_result"
    }
   ],
   "source": [
    "(p,r) # Precision e recall media"
   ]
  },
  {
   "cell_type": "code",
   "execution_count": 26,
   "metadata": {},
   "outputs": [],
   "source": [
    "\n"
   ]
  },
  {
   "cell_type": "code",
   "execution_count": 1,
   "metadata": {},
   "outputs": [
    {
     "name": "stderr",
     "output_type": "stream",
     "text": [
      "c:\\Users\\Leonardo\\anaconda3\\envs\\generic\\lib\\site-packages\\tqdm\\auto.py:22: TqdmWarning: IProgress not found. Please update jupyter and ipywidgets. See https://ipywidgets.readthedocs.io/en/stable/user_install.html\n",
      "  from .autonotebook import tqdm as notebook_tqdm\n"
     ]
    }
   ],
   "source": [
    "import os\n",
    "import cv2 as cv\n",
    "import imagenhancer as ie\n",
    "\n",
    "model_path_x4 = '.\\\\RealESRGANmaster\\\\weights\\\\RealESRGAN_x4plus.pth'\n",
    "enhancer = ie.RealESRGANx2(model_path = model_path_x4,scale_= 4)\n",
    "op_list=[\"\",\"UP\",\"FILT\",\"UP_FILT\",\"FILT_UP\",\"UP_FILT_DOWN\"]"
   ]
  },
  {
   "cell_type": "code",
   "execution_count": null,
   "metadata": {},
   "outputs": [],
   "source": [
    "import os\n",
    "import cv2 as cv\n",
    "import imagenhancer as ie\n",
    "\n",
    "model_path_x4 = '.\\\\RealESRGANmaster\\\\weights\\\\RealESRGAN_x4plus.pth'\n",
    "enhancer = ie.RealESRGANx2(model_path = model_path_x4,scale_= 4)\n",
    "\n",
    "# Modifica tutte le immagini e le mette in cartelle differenti per IR\n",
    "\n",
    "op_list=[\"UP\",\"FILT\",\"UP_FILT\",\"FILT_UP\",\"UP_FILT_DOWN\"]\n",
    "TEST_DIR = os.path.abspath(os.getcwd())+r\"\\reid\\CelebREID_empty\\testimages\"\n",
    "\n",
    "for i in os.listdir(TEST_DIR):\n",
    "    if i[-4:] == '.jpg':\n",
    "        img = cv.cvtColor(cv.imread(TEST_DIR+\"\\\\\"+i), cv.COLOR_BGR2RGB)\n",
    "        res = img\n",
    "        for ind, op in enumerate(op_list):\n",
    "            if op == \"UP\":\n",
    "                res = enhancer.upscale(img)\n",
    "                if res == img:\n",
    "                    print(\"ERROR\")\n",
    "\n",
    "            elif op == \"FILT\":\n",
    "                res = enhancer.filtering(img)\n",
    "\n",
    "            elif op == \"FILT_UP\":\n",
    "                res = enhancer.filt_up(img)\n",
    "            \n",
    "            elif op == \"UP_FILT\":\n",
    "                res = enhancer.up_filt(img)\n",
    "\n",
    "            \n",
    "            elif op == \"UP_FILT_DOWN\":\n",
    "                res = enhancer.up_filt_down(img)\n",
    "\n",
    "            res_filename = TEST_DIR+\"\\\\\"+op+\"\\\\\"+i\n",
    "            cv.imwrite(res_filename, cv.cvtColor(res, cv.COLOR_RGB2BGR))"
   ]
  },
  {
   "cell_type": "code",
   "execution_count": 2,
   "metadata": {},
   "outputs": [
    {
     "name": "stderr",
     "output_type": "stream",
     "text": [
      "c:\\Users\\Leonardo\\anaconda3\\envs\\generic\\lib\\site-packages\\sklearn\\utils\\deprecation.py:144: FutureWarning: The sklearn.metrics.base module is  deprecated in version 0.22 and will be removed in version 0.24. The corresponding classes / functions should instead be imported from sklearn.metrics. Anything that cannot be imported from sklearn.metrics is now part of the private API.\n",
      "  warnings.warn(message, FutureWarning)\n",
      "c:\\Users\\Leonardo\\anaconda3\\envs\\generic\\lib\\site-packages\\torchvision\\transforms\\transforms.py:329: UserWarning: Argument 'interpolation' of type int is deprecated since 0.13 and will be removed in 0.15. Please use InterpolationMode enum.\n",
      "  warnings.warn(\n",
      "c:\\Users\\Leonardo\\anaconda3\\envs\\generic\\lib\\site-packages\\torchvision\\models\\_utils.py:208: UserWarning: The parameter 'pretrained' is deprecated since 0.13 and may be removed in the future, please use 'weights' instead.\n",
      "  warnings.warn(\n",
      "c:\\Users\\Leonardo\\anaconda3\\envs\\generic\\lib\\site-packages\\torchvision\\models\\_utils.py:223: UserWarning: Arguments other than a weight enum or `None` for 'weights' are deprecated since 0.13 and may be removed in the future. The current behavior is equivalent to passing `weights=DenseNet121_Weights.IMAGENET1K_V1`. You can also use `weights=DenseNet121_Weights.DEFAULT` to get the most up-to-date weights.\n",
      "  warnings.warn(msg)\n"
     ]
    },
    {
     "name": "stdout",
     "output_type": "stream",
     "text": [
      "c:\\Users\\Leonardo\\Documents\\Universita\\CVCS\\PRJ\n",
      "c:\\Users\\Leonardo\\Documents\\Universita\\CVCS\\PRJ\\reid\\CelebREID_empty\\testimages\\\n",
      "c:\\Users\\Leonardo\\Documents\\Universita\\CVCS\\PRJ\\reid\\CelebREID_empty\\testimages\\\n",
      "=> Loaded checkpoint 'C:\\Users\\Leonardo\\Documents\\Universita\\CVCS\\PRJ\\reid\\model.pth.tar'\n"
     ]
    },
    {
     "name": "stderr",
     "output_type": "stream",
     "text": [
      "c:\\Users\\Leonardo\\Documents\\Universita\\CVCS\\PRJ\\reid\\CelebREID_empty\\reid\\evaluator.py:20: UserWarning: volatile was removed and now has no effect. Use `with torch.no_grad():` instead.\n",
      "  inputs = Variable(inputs, volatile=True)\n"
     ]
    },
    {
     "name": "stdout",
     "output_type": "stream",
     "text": [
      "10-Precision: 0.7 - Recall: 0.2414\n",
      "10-Precision: 0.9 - Recall: 0.1667\n",
      "10-Precision: 0.3 - Recall: 0.0882\n",
      "10-Precision: 0.2 - Recall: 0.0606\n",
      "10-Precision: 0.7 - Recall: 0.1556\n",
      "10-Precision: 0.4 - Recall: 0.1176\n",
      "10-Precision: 0.8 - Recall: 0.2667\n",
      "10-Precision: 0.4 - Recall: 0.1429\n",
      "10-Precision: 0.1 - Recall: 0.0526\n",
      "10-Precision: 0.6 - Recall: 0.1622\n",
      "10-Precision: 0.9 - Recall: 0.1915\n",
      "10-Precision: 0.6 - Recall: 0.1765\n",
      "c:\\Users\\Leonardo\\Documents\\Universita\\CVCS\\PRJ\\reid\\CelebREID_empty\\testimages\\UP\n",
      "c:\\Users\\Leonardo\\Documents\\Universita\\CVCS\\PRJ\\reid\\CelebREID_empty\\testimages\\UP\n"
     ]
    },
    {
     "name": "stderr",
     "output_type": "stream",
     "text": [
      "c:\\Users\\Leonardo\\anaconda3\\envs\\generic\\lib\\site-packages\\torchvision\\transforms\\transforms.py:329: UserWarning: Argument 'interpolation' of type int is deprecated since 0.13 and will be removed in 0.15. Please use InterpolationMode enum.\n",
      "  warnings.warn(\n",
      "c:\\Users\\Leonardo\\anaconda3\\envs\\generic\\lib\\site-packages\\torchvision\\models\\_utils.py:208: UserWarning: The parameter 'pretrained' is deprecated since 0.13 and may be removed in the future, please use 'weights' instead.\n",
      "  warnings.warn(\n",
      "c:\\Users\\Leonardo\\anaconda3\\envs\\generic\\lib\\site-packages\\torchvision\\models\\_utils.py:223: UserWarning: Arguments other than a weight enum or `None` for 'weights' are deprecated since 0.13 and may be removed in the future. The current behavior is equivalent to passing `weights=DenseNet121_Weights.IMAGENET1K_V1`. You can also use `weights=DenseNet121_Weights.DEFAULT` to get the most up-to-date weights.\n",
      "  warnings.warn(msg)\n"
     ]
    },
    {
     "name": "stdout",
     "output_type": "stream",
     "text": [
      "=> Loaded checkpoint 'C:\\Users\\Leonardo\\Documents\\Universita\\CVCS\\PRJ\\reid\\model.pth.tar'\n"
     ]
    },
    {
     "name": "stderr",
     "output_type": "stream",
     "text": [
      "c:\\Users\\Leonardo\\Documents\\Universita\\CVCS\\PRJ\\reid\\CelebREID_empty\\reid\\evaluator.py:20: UserWarning: volatile was removed and now has no effect. Use `with torch.no_grad():` instead.\n",
      "  inputs = Variable(inputs, volatile=True)\n"
     ]
    },
    {
     "name": "stdout",
     "output_type": "stream",
     "text": [
      "10-Precision: 0.1 - Recall: 0.04\n",
      "10-Precision: 0.7 - Recall: 0.1296\n",
      "10-Precision: 0.4 - Recall: 0.1176\n",
      "10-Precision: 0.2 - Recall: 0.0606\n",
      "10-Precision: 0.6 - Recall: 0.1333\n",
      "10-Precision: 0.8 - Recall: 0.2353\n",
      "10-Precision: 0.1 - Recall: 0.0294\n",
      "10-Precision: 0.2 - Recall: 0.0714\n",
      "10-Precision: 0.0 - Recall: 0.0\n",
      "10-Precision: 0.5 - Recall: 0.1351\n",
      "10-Precision: 0.9 - Recall: 0.1915\n",
      "10-Precision: 0.8 - Recall: 0.2353\n",
      "c:\\Users\\Leonardo\\Documents\\Universita\\CVCS\\PRJ\\reid\\CelebREID_empty\\testimages\\FILT\n",
      "c:\\Users\\Leonardo\\Documents\\Universita\\CVCS\\PRJ\\reid\\CelebREID_empty\\testimages\\FILT\n"
     ]
    },
    {
     "name": "stderr",
     "output_type": "stream",
     "text": [
      "c:\\Users\\Leonardo\\anaconda3\\envs\\generic\\lib\\site-packages\\torchvision\\transforms\\transforms.py:329: UserWarning: Argument 'interpolation' of type int is deprecated since 0.13 and will be removed in 0.15. Please use InterpolationMode enum.\n",
      "  warnings.warn(\n",
      "c:\\Users\\Leonardo\\anaconda3\\envs\\generic\\lib\\site-packages\\torchvision\\models\\_utils.py:208: UserWarning: The parameter 'pretrained' is deprecated since 0.13 and may be removed in the future, please use 'weights' instead.\n",
      "  warnings.warn(\n",
      "c:\\Users\\Leonardo\\anaconda3\\envs\\generic\\lib\\site-packages\\torchvision\\models\\_utils.py:223: UserWarning: Arguments other than a weight enum or `None` for 'weights' are deprecated since 0.13 and may be removed in the future. The current behavior is equivalent to passing `weights=DenseNet121_Weights.IMAGENET1K_V1`. You can also use `weights=DenseNet121_Weights.DEFAULT` to get the most up-to-date weights.\n",
      "  warnings.warn(msg)\n"
     ]
    },
    {
     "name": "stdout",
     "output_type": "stream",
     "text": [
      "=> Loaded checkpoint 'C:\\Users\\Leonardo\\Documents\\Universita\\CVCS\\PRJ\\reid\\model.pth.tar'\n"
     ]
    },
    {
     "name": "stderr",
     "output_type": "stream",
     "text": [
      "c:\\Users\\Leonardo\\Documents\\Universita\\CVCS\\PRJ\\reid\\CelebREID_empty\\reid\\evaluator.py:20: UserWarning: volatile was removed and now has no effect. Use `with torch.no_grad():` instead.\n",
      "  inputs = Variable(inputs, volatile=True)\n"
     ]
    },
    {
     "name": "stdout",
     "output_type": "stream",
     "text": [
      "10-Precision: 0.8 - Recall: 0.2759\n",
      "10-Precision: 0.9 - Recall: 0.1667\n",
      "10-Precision: 0.3 - Recall: 0.0882\n",
      "10-Precision: 0.2 - Recall: 0.0606\n",
      "10-Precision: 0.8 - Recall: 0.1778\n",
      "10-Precision: 0.5 - Recall: 0.1471\n",
      "10-Precision: 0.9 - Recall: 0.3\n",
      "10-Precision: 0.3 - Recall: 0.1071\n",
      "10-Precision: 0.2 - Recall: 0.1053\n",
      "10-Precision: 0.6 - Recall: 0.1622\n",
      "10-Precision: 0.9 - Recall: 0.1915\n",
      "10-Precision: 0.8 - Recall: 0.2353\n",
      "c:\\Users\\Leonardo\\Documents\\Universita\\CVCS\\PRJ\\reid\\CelebREID_empty\\testimages\\UP_FILT\n",
      "c:\\Users\\Leonardo\\Documents\\Universita\\CVCS\\PRJ\\reid\\CelebREID_empty\\testimages\\UP_FILT\n"
     ]
    },
    {
     "name": "stderr",
     "output_type": "stream",
     "text": [
      "c:\\Users\\Leonardo\\anaconda3\\envs\\generic\\lib\\site-packages\\torchvision\\transforms\\transforms.py:329: UserWarning: Argument 'interpolation' of type int is deprecated since 0.13 and will be removed in 0.15. Please use InterpolationMode enum.\n",
      "  warnings.warn(\n",
      "c:\\Users\\Leonardo\\anaconda3\\envs\\generic\\lib\\site-packages\\torchvision\\models\\_utils.py:208: UserWarning: The parameter 'pretrained' is deprecated since 0.13 and may be removed in the future, please use 'weights' instead.\n",
      "  warnings.warn(\n",
      "c:\\Users\\Leonardo\\anaconda3\\envs\\generic\\lib\\site-packages\\torchvision\\models\\_utils.py:223: UserWarning: Arguments other than a weight enum or `None` for 'weights' are deprecated since 0.13 and may be removed in the future. The current behavior is equivalent to passing `weights=DenseNet121_Weights.IMAGENET1K_V1`. You can also use `weights=DenseNet121_Weights.DEFAULT` to get the most up-to-date weights.\n",
      "  warnings.warn(msg)\n"
     ]
    },
    {
     "name": "stdout",
     "output_type": "stream",
     "text": [
      "=> Loaded checkpoint 'C:\\Users\\Leonardo\\Documents\\Universita\\CVCS\\PRJ\\reid\\model.pth.tar'\n"
     ]
    },
    {
     "name": "stderr",
     "output_type": "stream",
     "text": [
      "c:\\Users\\Leonardo\\Documents\\Universita\\CVCS\\PRJ\\reid\\CelebREID_empty\\reid\\evaluator.py:20: UserWarning: volatile was removed and now has no effect. Use `with torch.no_grad():` instead.\n",
      "  inputs = Variable(inputs, volatile=True)\n"
     ]
    },
    {
     "name": "stdout",
     "output_type": "stream",
     "text": [
      "10-Precision: 0.0 - Recall: 0.0\n",
      "10-Precision: 0.7 - Recall: 0.1296\n",
      "10-Precision: 0.4 - Recall: 0.1176\n",
      "10-Precision: 0.2 - Recall: 0.0606\n",
      "10-Precision: 0.5 - Recall: 0.1111\n",
      "10-Precision: 0.8 - Recall: 0.2353\n",
      "10-Precision: 0.1 - Recall: 0.0294\n",
      "10-Precision: 0.2 - Recall: 0.0714\n",
      "10-Precision: 0.0 - Recall: 0.0\n",
      "10-Precision: 0.4 - Recall: 0.1081\n",
      "10-Precision: 0.9 - Recall: 0.1915\n",
      "10-Precision: 0.8 - Recall: 0.2353\n",
      "c:\\Users\\Leonardo\\Documents\\Universita\\CVCS\\PRJ\\reid\\CelebREID_empty\\testimages\\FILT_UP\n",
      "c:\\Users\\Leonardo\\Documents\\Universita\\CVCS\\PRJ\\reid\\CelebREID_empty\\testimages\\FILT_UP\n"
     ]
    },
    {
     "name": "stderr",
     "output_type": "stream",
     "text": [
      "c:\\Users\\Leonardo\\anaconda3\\envs\\generic\\lib\\site-packages\\torchvision\\transforms\\transforms.py:329: UserWarning: Argument 'interpolation' of type int is deprecated since 0.13 and will be removed in 0.15. Please use InterpolationMode enum.\n",
      "  warnings.warn(\n",
      "c:\\Users\\Leonardo\\anaconda3\\envs\\generic\\lib\\site-packages\\torchvision\\models\\_utils.py:208: UserWarning: The parameter 'pretrained' is deprecated since 0.13 and may be removed in the future, please use 'weights' instead.\n",
      "  warnings.warn(\n",
      "c:\\Users\\Leonardo\\anaconda3\\envs\\generic\\lib\\site-packages\\torchvision\\models\\_utils.py:223: UserWarning: Arguments other than a weight enum or `None` for 'weights' are deprecated since 0.13 and may be removed in the future. The current behavior is equivalent to passing `weights=DenseNet121_Weights.IMAGENET1K_V1`. You can also use `weights=DenseNet121_Weights.DEFAULT` to get the most up-to-date weights.\n",
      "  warnings.warn(msg)\n"
     ]
    },
    {
     "name": "stdout",
     "output_type": "stream",
     "text": [
      "=> Loaded checkpoint 'C:\\Users\\Leonardo\\Documents\\Universita\\CVCS\\PRJ\\reid\\model.pth.tar'\n"
     ]
    },
    {
     "name": "stderr",
     "output_type": "stream",
     "text": [
      "c:\\Users\\Leonardo\\Documents\\Universita\\CVCS\\PRJ\\reid\\CelebREID_empty\\reid\\evaluator.py:20: UserWarning: volatile was removed and now has no effect. Use `with torch.no_grad():` instead.\n",
      "  inputs = Variable(inputs, volatile=True)\n"
     ]
    },
    {
     "name": "stdout",
     "output_type": "stream",
     "text": [
      "10-Precision: 0.1 - Recall: 0.04\n",
      "10-Precision: 0.7 - Recall: 0.1296\n",
      "10-Precision: 0.5 - Recall: 0.1471\n",
      "10-Precision: 0.2 - Recall: 0.0606\n",
      "10-Precision: 0.8 - Recall: 0.1778\n",
      "10-Precision: 0.8 - Recall: 0.2353\n",
      "10-Precision: 0.6 - Recall: 0.2\n",
      "10-Precision: 0.2 - Recall: 0.0714\n",
      "10-Precision: 0.0 - Recall: 0.0\n",
      "10-Precision: 0.5 - Recall: 0.1351\n",
      "10-Precision: 0.9 - Recall: 0.1915\n",
      "10-Precision: 0.8 - Recall: 0.2353\n",
      "c:\\Users\\Leonardo\\Documents\\Universita\\CVCS\\PRJ\\reid\\CelebREID_empty\\testimages\\UP_FILT_DOWN\n",
      "c:\\Users\\Leonardo\\Documents\\Universita\\CVCS\\PRJ\\reid\\CelebREID_empty\\testimages\\UP_FILT_DOWN\n"
     ]
    },
    {
     "name": "stderr",
     "output_type": "stream",
     "text": [
      "c:\\Users\\Leonardo\\anaconda3\\envs\\generic\\lib\\site-packages\\torchvision\\transforms\\transforms.py:329: UserWarning: Argument 'interpolation' of type int is deprecated since 0.13 and will be removed in 0.15. Please use InterpolationMode enum.\n",
      "  warnings.warn(\n",
      "c:\\Users\\Leonardo\\anaconda3\\envs\\generic\\lib\\site-packages\\torchvision\\models\\_utils.py:208: UserWarning: The parameter 'pretrained' is deprecated since 0.13 and may be removed in the future, please use 'weights' instead.\n",
      "  warnings.warn(\n",
      "c:\\Users\\Leonardo\\anaconda3\\envs\\generic\\lib\\site-packages\\torchvision\\models\\_utils.py:223: UserWarning: Arguments other than a weight enum or `None` for 'weights' are deprecated since 0.13 and may be removed in the future. The current behavior is equivalent to passing `weights=DenseNet121_Weights.IMAGENET1K_V1`. You can also use `weights=DenseNet121_Weights.DEFAULT` to get the most up-to-date weights.\n",
      "  warnings.warn(msg)\n"
     ]
    },
    {
     "name": "stdout",
     "output_type": "stream",
     "text": [
      "=> Loaded checkpoint 'C:\\Users\\Leonardo\\Documents\\Universita\\CVCS\\PRJ\\reid\\model.pth.tar'\n"
     ]
    },
    {
     "name": "stderr",
     "output_type": "stream",
     "text": [
      "c:\\Users\\Leonardo\\Documents\\Universita\\CVCS\\PRJ\\reid\\CelebREID_empty\\reid\\evaluator.py:20: UserWarning: volatile was removed and now has no effect. Use `with torch.no_grad():` instead.\n",
      "  inputs = Variable(inputs, volatile=True)\n"
     ]
    },
    {
     "name": "stdout",
     "output_type": "stream",
     "text": [
      "10-Precision: 0.0 - Recall: 0.0\n",
      "10-Precision: 0.7 - Recall: 0.1296\n",
      "10-Precision: 0.5 - Recall: 0.1471\n",
      "10-Precision: 0.2 - Recall: 0.0606\n",
      "10-Precision: 0.5 - Recall: 0.1111\n",
      "10-Precision: 0.8 - Recall: 0.2353\n",
      "10-Precision: 0.1 - Recall: 0.0294\n",
      "10-Precision: 0.2 - Recall: 0.0714\n",
      "10-Precision: 0.0 - Recall: 0.0\n",
      "10-Precision: 0.5 - Recall: 0.1351\n",
      "10-Precision: 0.9 - Recall: 0.1915\n",
      "10-Precision: 0.8 - Recall: 0.2353\n"
     ]
    }
   ],
   "source": [
    "from reid.CelebREID_empty.searchImage import search\n",
    "\n",
    "results = list()\n",
    "\n",
    "for i in op_list:\n",
    "    tmp_dict = dict()\n",
    "    TEST_DIR = os.path.abspath(os.getcwd())+r\"\\reid\\CelebREID_empty\\testimages\"+\"\\\\\"+i\n",
    "    print(TEST_DIR)\n",
    "    tmp_dict = search(True,TEST_DIR)\n",
    "    results.append(tmp_dict)"
   ]
  },
  {
   "cell_type": "code",
   "execution_count": 31,
   "metadata": {},
   "outputs": [
    {
     "name": "stdout",
     "output_type": "stream",
     "text": [
      "-___________________________________-\n",
      "-___________________________________-\n",
      "-___________________________________-\n",
      "-___________________________________-\n",
      "-___________________________________-\n",
      "-___________________________________-\n"
     ]
    }
   ],
   "source": [
    "#primo indice raggruppa per operazione\n",
    "#secondo indice dizionario per immagineb\n",
    "p_list={}\n",
    "r_list={}\n",
    "\n",
    "for i in results:\n",
    "    print(\"-___________________________________-\")\n",
    "    l = len(i)\n",
    "    op = i[0][\"operation\"]\n",
    "    if op==\"\":\n",
    "        op=\"std\"\n",
    "    p_list[op]=0\n",
    "    r_list[op]=0\n",
    "    for ind in i:\n",
    "        p_list[op]+=ind[\"precision\"]/l\n",
    "        r_list[op]+=ind[\"recall\"]/l"
   ]
  },
  {
   "cell_type": "code",
   "execution_count": 32,
   "metadata": {},
   "outputs": [
    {
     "name": "stdout",
     "output_type": "stream",
     "text": [
      "{'std': 0.55, 'UP': 0.4416666666666667, 'FILT': 0.6, 'UP_FILT': 0.4166666666666667, 'FILT_UP': 0.5083333333333333, 'UP_FILT_DOWN': 0.4333333333333333}\n"
     ]
    }
   ],
   "source": [
    "print(p_list)"
   ]
  },
  {
   "cell_type": "code",
   "execution_count": 33,
   "metadata": {},
   "outputs": [
    {
     "name": "stdout",
     "output_type": "stream",
     "text": [
      "{'std': 0.15187499999999998, 'UP': 0.11492500000000001, 'FILT': 0.16814166666666666, 'UP_FILT': 0.1074916666666667, 'FILT_UP': 0.13530833333333334, 'UP_FILT_DOWN': 0.11220000000000001}\n"
     ]
    }
   ],
   "source": [
    "print(r_list)"
   ]
  }
 ],
 "metadata": {
  "kernelspec": {
   "display_name": "generic",
   "language": "python",
   "name": "python3"
  },
  "language_info": {
   "codemirror_mode": {
    "name": "ipython",
    "version": 3
   },
   "file_extension": ".py",
   "mimetype": "text/x-python",
   "name": "python",
   "nbconvert_exporter": "python",
   "pygments_lexer": "ipython3",
   "version": "3.8.13 (default, Mar 28 2022, 06:59:08) [MSC v.1916 64 bit (AMD64)]"
  },
  "orig_nbformat": 4,
  "vscode": {
   "interpreter": {
    "hash": "2c15f893695056e577366fe69c89e54e0628f9b2e926d02b3ab453b18204a414"
   }
  }
 },
 "nbformat": 4,
 "nbformat_minor": 2
}
